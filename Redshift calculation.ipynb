{
 "cells": [
  {
   "cell_type": "code",
   "execution_count": 1,
   "metadata": {},
   "outputs": [],
   "source": [
    "import numpy as np\n",
    "import math"
   ]
  },
  {
   "cell_type": "code",
   "execution_count": 2,
   "metadata": {},
   "outputs": [
    {
     "name": "stdout",
     "output_type": "stream",
     "text": [
      "2\n",
      "4\n",
      "700\n",
      "486.2745098039216\n",
      "104700639.84165372\n",
      "0.43951612903225795\n"
     ]
    }
   ],
   "source": [
    "c1=13.6\n",
    "c2=3e8 ##speed of light\n",
    "\n",
    "n_lower=int(input())##lower state\n",
    "n1=n_lower*n_lower\n",
    "n_higher=int(input())##higher state\n",
    "n2=n_higher*n_higher\n",
    "wavelength_obs=int(input())##in nm\n",
    "E=c1*((1/n1)-(1/n2))##energy of transition in eV\n",
    "wavelength_source=1240/E  ##in nm\n",
    "print(wavelength_source)\n",
    "beta=((wavelength_obs*wavelength_obs)-(wavelength_source*wavelength_source))/((wavelength_source*wavelength_source)+(wavelength_obs*wavelength_obs))  ##bush factor=v/c\n",
    "v_galaxy=beta*c2 ##velocity of recession\n",
    "print(v_galaxy)\n",
    "redshift=(wavelength_obs-wavelength_source)/(wavelength_source)\n",
    "print(redshift)"
   ]
  },
  {
   "cell_type": "code",
   "execution_count": null,
   "metadata": {},
   "outputs": [],
   "source": []
  }
 ],
 "metadata": {
  "kernelspec": {
   "display_name": "Python 3",
   "language": "python",
   "name": "python3"
  },
  "language_info": {
   "codemirror_mode": {
    "name": "ipython",
    "version": 3
   },
   "file_extension": ".py",
   "mimetype": "text/x-python",
   "name": "python",
   "nbconvert_exporter": "python",
   "pygments_lexer": "ipython3",
   "version": "3.7.3"
  }
 },
 "nbformat": 4,
 "nbformat_minor": 2
}
